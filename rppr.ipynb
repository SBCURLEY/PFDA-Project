{
 "cells": [
  {
   "cell_type": "markdown",
   "metadata": {},
   "source": [
    "<div align=\"center\">\n",
    "\n",
    "# Programming for Data Analytics Project\n",
    "## Residential Property Price Register Analysis\n",
    "***\n",
    "\n",
    "</div>"
   ]
  },
  {
   "cell_type": "markdown",
   "metadata": {},
   "source": [
    "<p align=\"center\">\n",
    "    <img width=\"959\" height=\"539\" src=\"./images/housing_predictions.webp\" alt=\"Sublime's custom image\"/\n",
    "    >\n",
    "    </p>"
   ]
  },
  {
   "cell_type": "markdown",
   "metadata": {},
   "source": [
    "###### [Image from Forbes.com](https://www.forbes.com/advisor/mortgages/real-estate/housing-market-predictions/)"
   ]
  },
  {
   "cell_type": "markdown",
   "metadata": {},
   "source": [
    "### Table of Contents\n",
    "\n",
    "\n",
    "1. About the Project\n",
    "   \n",
    "2. Import Libraries\n",
    "   \n",
    "3. Load Data\n",
    "\n",
    "4. Data Exploration\n",
    "   \n",
    "    4.1  Check for the DataFrame\n",
    "\n",
    "    4.2  Check for the DataFrame dimensionality with pandas .info() method\n",
    "\n",
    "    4.3  Generate descriptive statistics with pandas .describe method\n",
    "\n",
    "    4.4  Check for missing values   \n",
    "\n",
    "5. Data Analysis\n",
    "   \n",
    "    5.1  Analysis of Property Prices in Ireland (2010-2024)\n",
    "    \n",
    "     - 5.1.1    Average property prices by county\n",
    "\n",
    "     - 5.1.2    Number of property sales by county\n",
    "\n",
    "     - 5.1.3    Average property prices by year\n",
    "\n",
    "     - 5.1.4    Average property prices by month\n",
    "\n",
    "     - 5.1.5    Number of occurrences of each property type\n",
    "\n",
    "     - 5.1.6    Average property prices by property type (2010-2024)\n",
    "\n",
    "     - 5.1.7    Full Market price comparison\n",
    "\n",
    "     - 5.1.8    County with the highest and lowest average property prices\n",
    "  \n",
    "    5.2 Analysis of Property Prices in Mayo (2010-2024)\n",
    " \n",
    "     - 5.2.1    Data Preparation for Analysis\n",
    "\n",
    "     - 5.2.2    Average Mayo Property Price by Year\n",
    "\n",
    "     - 5.2.3    Average Mayo Property Price by Month\n",
    "\n",
    "     - 5.2.4    Average Mayo Property Price by month in 2024\n",
    "\n",
    "     - 5.2.5    Number of property sales in Mayo in 2024\n",
    "\n",
    "     - 5.2.6    Number of occurrences of each property type in Mayo\n",
    "\n",
    "     - 5.2.7    Average property price by property type in Mayo in 2024\n",
    "\n",
    "     - 5.2.8    Full Market price comparison in Mayo\n",
    "\n",
    "\n",
    "\n",
    "\n",
    "6.  References"
   ]
  },
  {
   "cell_type": "markdown",
   "metadata": {},
   "source": [
    "### 1. About the Project\n",
    "***"
   ]
  },
  {
   "cell_type": "markdown",
   "metadata": {},
   "source": [
    "### 2. Import the Libraries\n",
    "***\n",
    "\n",
    "I imported the following libraries to plot the dataset.\n",
    "\n",
    "- `matplotlib.pyplot`: Essential for creating static, animated, and interactive visualizations in Python. It is closely integrated with NumPy and provides a MATLAB-like interface for creating plots and visualizations.\n",
    "- `numpy`: It contains functionality for multidimensional arrays, high-level mathematical functions such as linear algebra operations.\n",
    "- `pandas`: Fundamental data analysis and manipulation library built on top of the Python programming language. It offers data structures and operations for manipulating numerical tables and time series.\n",
    "- `seaborn`: Seaborn is a Python data visualization library based on matplotlib. It provides a high-level interface for drawing attractive and informative statistical graphics.\n",
    "- `datetime`: The datetime is a built-in module that provides classes for manipulating dates and times\n",
    "- `re`: The re module provides a set of functions to work with regular expressions, used for searching, matching, and manipulating strings."
   ]
  },
  {
   "cell_type": "code",
   "execution_count": 2,
   "metadata": {},
   "outputs": [],
   "source": [
    "import matplotlib.pyplot as plt\n",
    "import numpy as np\n",
    "import pandas as pd\n",
    "import seaborn as sns\n",
    "import datetime\n",
    "import re"
   ]
  },
  {
   "cell_type": "markdown",
   "metadata": {},
   "source": [
    "### 3. Load the Data\n",
    "***\n",
    "Load the dataset from the Residential Property Price Register website https://www.propertypriceregister.ie/\n"
   ]
  },
  {
   "cell_type": "code",
   "execution_count": 3,
   "metadata": {},
   "outputs": [
    {
     "name": "stderr",
     "output_type": "stream",
     "text": [
      "C:\\Users\\curleys\\AppData\\Local\\Temp\\ipykernel_25540\\1623581419.py:1: DtypeWarning: Columns (8) have mixed types. Specify dtype option on import or set low_memory=False.\n",
      "  df=pd.read_csv(\"./data/ppr_all.csv\")\n"
     ]
    }
   ],
   "source": [
    "df=pd.read_csv(\"./data/ppr_all.csv\")"
   ]
  },
  {
   "cell_type": "markdown",
   "metadata": {},
   "source": [
    "### 4. Data Exploration\n",
    "***"
   ]
  },
  {
   "cell_type": "markdown",
   "metadata": {},
   "source": [
    "#### 4.1 Check the dataframe using df.head"
   ]
  },
  {
   "cell_type": "markdown",
   "metadata": {},
   "source": [
    "Lets have an initial glance at the data"
   ]
  },
  {
   "cell_type": "code",
   "execution_count": 4,
   "metadata": {},
   "outputs": [
    {
     "data": {
      "text/html": [
       "<div>\n",
       "<style scoped>\n",
       "    .dataframe tbody tr th:only-of-type {\n",
       "        vertical-align: middle;\n",
       "    }\n",
       "\n",
       "    .dataframe tbody tr th {\n",
       "        vertical-align: top;\n",
       "    }\n",
       "\n",
       "    .dataframe thead th {\n",
       "        text-align: right;\n",
       "    }\n",
       "</style>\n",
       "<table border=\"1\" class=\"dataframe\">\n",
       "  <thead>\n",
       "    <tr style=\"text-align: right;\">\n",
       "      <th></th>\n",
       "      <th>Date of Sale (dd/mm/yyyy)</th>\n",
       "      <th>Address</th>\n",
       "      <th>County</th>\n",
       "      <th>Eircode</th>\n",
       "      <th>Price in Euro</th>\n",
       "      <th>Not Full Market Price</th>\n",
       "      <th>VAT Exclusive</th>\n",
       "      <th>Description of Property</th>\n",
       "      <th>Property Size Description</th>\n",
       "    </tr>\n",
       "  </thead>\n",
       "  <tbody>\n",
       "    <tr>\n",
       "      <th>0</th>\n",
       "      <td>01/01/2010</td>\n",
       "      <td>5 Braemor Drive, Churchtown, Co.Dublin</td>\n",
       "      <td>Dublin</td>\n",
       "      <td>NaN</td>\n",
       "      <td>343000.0</td>\n",
       "      <td>No</td>\n",
       "      <td>No</td>\n",
       "      <td>Second-Hand Dwelling house /Apartment</td>\n",
       "      <td>NaN</td>\n",
       "    </tr>\n",
       "    <tr>\n",
       "      <th>1</th>\n",
       "      <td>03/01/2010</td>\n",
       "      <td>134 Ashewood Walk, Summerhill Lane, Portlaoise</td>\n",
       "      <td>Laois</td>\n",
       "      <td>NaN</td>\n",
       "      <td>185000.0</td>\n",
       "      <td>No</td>\n",
       "      <td>Yes</td>\n",
       "      <td>New Dwelling house /Apartment</td>\n",
       "      <td>greater than or equal to 38 sq metres and less...</td>\n",
       "    </tr>\n",
       "    <tr>\n",
       "      <th>2</th>\n",
       "      <td>04/01/2010</td>\n",
       "      <td>1 Meadow Avenue, Dundrum, Dublin 14</td>\n",
       "      <td>Dublin</td>\n",
       "      <td>NaN</td>\n",
       "      <td>438500.0</td>\n",
       "      <td>No</td>\n",
       "      <td>No</td>\n",
       "      <td>Second-Hand Dwelling house /Apartment</td>\n",
       "      <td>NaN</td>\n",
       "    </tr>\n",
       "    <tr>\n",
       "      <th>3</th>\n",
       "      <td>04/01/2010</td>\n",
       "      <td>1 The Haven, Mornington</td>\n",
       "      <td>Meath</td>\n",
       "      <td>NaN</td>\n",
       "      <td>400000.0</td>\n",
       "      <td>No</td>\n",
       "      <td>No</td>\n",
       "      <td>Second-Hand Dwelling house /Apartment</td>\n",
       "      <td>NaN</td>\n",
       "    </tr>\n",
       "    <tr>\n",
       "      <th>4</th>\n",
       "      <td>04/01/2010</td>\n",
       "      <td>11 Melville Heights, Kilkenny</td>\n",
       "      <td>Kilkenny</td>\n",
       "      <td>NaN</td>\n",
       "      <td>160000.0</td>\n",
       "      <td>No</td>\n",
       "      <td>No</td>\n",
       "      <td>Second-Hand Dwelling house /Apartment</td>\n",
       "      <td>NaN</td>\n",
       "    </tr>\n",
       "  </tbody>\n",
       "</table>\n",
       "</div>"
      ],
      "text/plain": [
       "  Date of Sale (dd/mm/yyyy)                                         Address  \\\n",
       "0                01/01/2010          5 Braemor Drive, Churchtown, Co.Dublin   \n",
       "1                03/01/2010  134 Ashewood Walk, Summerhill Lane, Portlaoise   \n",
       "2                04/01/2010             1 Meadow Avenue, Dundrum, Dublin 14   \n",
       "3                04/01/2010                         1 The Haven, Mornington   \n",
       "4                04/01/2010                   11 Melville Heights, Kilkenny   \n",
       "\n",
       "     County Eircode  Price in Euro Not Full Market Price VAT Exclusive  \\\n",
       "0    Dublin     NaN       343000.0                    No            No   \n",
       "1     Laois     NaN       185000.0                    No           Yes   \n",
       "2    Dublin     NaN       438500.0                    No            No   \n",
       "3     Meath     NaN       400000.0                    No            No   \n",
       "4  Kilkenny     NaN       160000.0                    No            No   \n",
       "\n",
       "                 Description of Property  \\\n",
       "0  Second-Hand Dwelling house /Apartment   \n",
       "1          New Dwelling house /Apartment   \n",
       "2  Second-Hand Dwelling house /Apartment   \n",
       "3  Second-Hand Dwelling house /Apartment   \n",
       "4  Second-Hand Dwelling house /Apartment   \n",
       "\n",
       "                           Property Size Description  \n",
       "0                                                NaN  \n",
       "1  greater than or equal to 38 sq metres and less...  \n",
       "2                                                NaN  \n",
       "3                                                NaN  \n",
       "4                                                NaN  "
      ]
     },
     "execution_count": 4,
     "metadata": {},
     "output_type": "execute_result"
    }
   ],
   "source": [
    "df.head(5)"
   ]
  },
  {
   "cell_type": "markdown",
   "metadata": {},
   "source": [
    "#### 4.2  Check for the DataFrame dimensionality with pandas .info() method"
   ]
  },
  {
   "cell_type": "markdown",
   "metadata": {},
   "source": [
    "The .info() method in Pandas provides valuable insights about the DataFrame. The information contains the number of columns, column labels, column data types, memory usage, range index, and the number of cells in each column (non-null values). The info() method does not return any value, it prints the information. [[1]](https://www.w3schools.com/python/pandas/ref_df_info.asp) \n",
    "\n",
    "The output of the .info() method consists of several key components: [[2]](https://machinelearningtutorials.org/a-comprehensive-guide-to-using-the-pandas-dataframe-info-method/)\n",
    "\n",
    "- The total number of rows (entries) in the DataFrame.\n",
    "\n",
    "- A summary of each column, including:\n",
    "  - The column name\n",
    "  - The number of non-null values\n",
    "  - The data type of the column\n",
    "  - The memory usage of the column\n",
    "\n",
    "The dataset contains the following columns:\n",
    "\n",
    "- Date of Sale (dd/mm/yyyy): Date when the property was sold.\n",
    "\n",
    "- Address: Address of the property.\n",
    "\n",
    "- County: The county in which the property is located.\n",
    "\n",
    "- Eircode: Eircode of the property.\n",
    "\n",
    "- Price in Euro: The sale price of the property in Euros.\n",
    "\n",
    "- Not Full Market Price: Indicates whether the sale was at the full market price.\n",
    "\n",
    "- VAT Exclusive: Indicates whether VAT was excluded in the sale price.\n",
    "\n",
    "- Description of Property: Type of property (e.g., second-hand or new).\n",
    "\n",
    "- Property Size Description: Description of the property size (e.g., \"greater than 125 sq metres\").\n"
   ]
  },
  {
   "cell_type": "code",
   "execution_count": 5,
   "metadata": {},
   "outputs": [
    {
     "name": "stdout",
     "output_type": "stream",
     "text": [
      "<class 'pandas.core.frame.DataFrame'>\n",
      "RangeIndex: 694503 entries, 0 to 694502\n",
      "Data columns (total 9 columns):\n",
      " #   Column                     Non-Null Count   Dtype  \n",
      "---  ------                     --------------   -----  \n",
      " 0   Date of Sale (dd/mm/yyyy)  694503 non-null  object \n",
      " 1   Address                    694503 non-null  object \n",
      " 2   County                     694503 non-null  object \n",
      " 3   Eircode                    166138 non-null  object \n",
      " 4   Price in Euro              694503 non-null  float64\n",
      " 5   Not Full Market Price      694503 non-null  object \n",
      " 6   VAT Exclusive              694503 non-null  object \n",
      " 7   Description of Property    694503 non-null  object \n",
      " 8   Property Size Description  52830 non-null   object \n",
      "dtypes: float64(1), object(8)\n",
      "memory usage: 47.7+ MB\n"
     ]
    }
   ],
   "source": [
    "df.info()"
   ]
  },
  {
   "cell_type": "markdown",
   "metadata": {},
   "source": [
    "Upon review, I can gather the following information:\n",
    "\n",
    "- The DataFrame contains 694503 rows and 9 columns.\n",
    "- The columns are: Date of Sale\", \"\"Address\", \"County\", \"Eircode\", \"Price in Euro\", \"Not Full Market Price\",\"VAT Exclusive\", \"Description of Property\" and \"Property Size Description\".\n",
    "- Some columns have non-null values, indicating that there are missing values in this dataset. Two variables of the columns have missing values.\n",
    "- One quantitative variables is numeric with type float64: \"Price in Euro\". \n",
    "- Eight qualitative variables are categorical with type object: \"Date of Sale\", \"\"Address\", \"County\", \"Eircode\", \"Not Full Market Price\",\"VAT Exclusive\", \"Description of Property\" and \"Property Size Description\".\n",
    "- The memory usage of this DataFrame is approximately 47.7 MB.\n",
    "\n",
    "###### [1] [w3schools Pandas DataFrame info() Method](https://www.w3schools.com/python/pandas/ref_df_info.asp)\n",
    "###### [2] [Understanding the .info output - Machine Learning Tutorials](https://machinelearningtutorials.org/a-comprehensive-guide-to-using-the-pandas-dataframe-info-method/)"
   ]
  },
  {
   "cell_type": "markdown",
   "metadata": {},
   "source": [
    "#### 4.3  Generate descriptive statistics with pandas df.describe method"
   ]
  },
  {
   "cell_type": "markdown",
   "metadata": {},
   "source": [
    "This analysis provides generalized descriptive statistics that summarises the central tendency of the data, the dispersion, and the shape of the dataset’s distribution. It also provides helpful information on missing NaN data. It includes the following statistics: [[3]](https://www.pythonlore.com/exploring-pandas-dataframe-describe-for-descriptive-statistics/)  [[4]](https://pandas.pydata.org/pandas-docs/version/0.20.2/generated/pandas.DataFrame.describe.html)\n",
    "\n",
    "By default, the describe() function only generates descriptive statistics for numeric columns in a pandas DataFrame. I specifying include='all' which will force pandas to generate summaries for all columns in the dataframe. Some data types don’t have any information. Pandas marks them as NaN.\n",
    "\n",
    "\n",
    "- Count: This represents the number of non-null (non-empty) values in the dataset for each column.\n",
    "\n",
    "- Unique: This will show the number of unique values in the column\n",
    "\n",
    "- Top: Ths will display the most common value in the column\n",
    "\n",
    "- Frequency: This will show the frequency of the top value within the column.\n",
    "\n",
    "- Mean: This will display the average value for each column.\n",
    "\n",
    "- Standard deviation: It indicates how spread out the values are around the mean. A higher standard deviation means the values are more spread out from the mean, while a lower standard deviation means the values are closer to the mean.\n",
    "\n",
    "- Minimum: It represents the lowest value in each column.\n",
    "\n",
    "- The default percentiles of the describe function are 25th, 50th, and 75th percentile or (0.25, 0.5, and 0.75).\n",
    "  \n",
    "- First quartile (25th percentile): 25% of the data values are below this value.\n",
    "\n",
    "- Second quartile (50th percentile): It represents the median, the middle value of the dataset.\n",
    "\n",
    "- Third quartile (75th percentile): 75% of the data values are below this value.\n",
    "\n",
    "- Maximum: It represents the highest value in the dataset."
   ]
  },
  {
   "cell_type": "code",
   "execution_count": 6,
   "metadata": {},
   "outputs": [
    {
     "data": {
      "text/html": [
       "<div>\n",
       "<style scoped>\n",
       "    .dataframe tbody tr th:only-of-type {\n",
       "        vertical-align: middle;\n",
       "    }\n",
       "\n",
       "    .dataframe tbody tr th {\n",
       "        vertical-align: top;\n",
       "    }\n",
       "\n",
       "    .dataframe thead th {\n",
       "        text-align: right;\n",
       "    }\n",
       "</style>\n",
       "<table border=\"1\" class=\"dataframe\">\n",
       "  <thead>\n",
       "    <tr style=\"text-align: right;\">\n",
       "      <th></th>\n",
       "      <th>Date of Sale (dd/mm/yyyy)</th>\n",
       "      <th>Address</th>\n",
       "      <th>County</th>\n",
       "      <th>Eircode</th>\n",
       "      <th>Price in Euro</th>\n",
       "      <th>Not Full Market Price</th>\n",
       "      <th>VAT Exclusive</th>\n",
       "      <th>Description of Property</th>\n",
       "      <th>Property Size Description</th>\n",
       "    </tr>\n",
       "  </thead>\n",
       "  <tbody>\n",
       "    <tr>\n",
       "      <th>count</th>\n",
       "      <td>694503</td>\n",
       "      <td>694503</td>\n",
       "      <td>694503</td>\n",
       "      <td>166138</td>\n",
       "      <td>6.945030e+05</td>\n",
       "      <td>694503</td>\n",
       "      <td>694503</td>\n",
       "      <td>694503</td>\n",
       "      <td>52830</td>\n",
       "    </tr>\n",
       "    <tr>\n",
       "      <th>unique</th>\n",
       "      <td>5145</td>\n",
       "      <td>622025</td>\n",
       "      <td>26</td>\n",
       "      <td>160850</td>\n",
       "      <td>NaN</td>\n",
       "      <td>2</td>\n",
       "      <td>2</td>\n",
       "      <td>5</td>\n",
       "      <td>6</td>\n",
       "    </tr>\n",
       "    <tr>\n",
       "      <th>top</th>\n",
       "      <td>22/12/2014</td>\n",
       "      <td>Broomfield, Midleton</td>\n",
       "      <td>Dublin</td>\n",
       "      <td>D24W9NN</td>\n",
       "      <td>NaN</td>\n",
       "      <td>No</td>\n",
       "      <td>No</td>\n",
       "      <td>Second-Hand Dwelling house /Apartment</td>\n",
       "      <td>greater than or equal to 38 sq metres and less...</td>\n",
       "    </tr>\n",
       "    <tr>\n",
       "      <th>freq</th>\n",
       "      <td>1542</td>\n",
       "      <td>21</td>\n",
       "      <td>217653</td>\n",
       "      <td>34</td>\n",
       "      <td>NaN</td>\n",
       "      <td>659594</td>\n",
       "      <td>579152</td>\n",
       "      <td>576951</td>\n",
       "      <td>38096</td>\n",
       "    </tr>\n",
       "    <tr>\n",
       "      <th>mean</th>\n",
       "      <td>NaN</td>\n",
       "      <td>NaN</td>\n",
       "      <td>NaN</td>\n",
       "      <td>NaN</td>\n",
       "      <td>2.977859e+05</td>\n",
       "      <td>NaN</td>\n",
       "      <td>NaN</td>\n",
       "      <td>NaN</td>\n",
       "      <td>NaN</td>\n",
       "    </tr>\n",
       "    <tr>\n",
       "      <th>std</th>\n",
       "      <td>NaN</td>\n",
       "      <td>NaN</td>\n",
       "      <td>NaN</td>\n",
       "      <td>NaN</td>\n",
       "      <td>1.024681e+06</td>\n",
       "      <td>NaN</td>\n",
       "      <td>NaN</td>\n",
       "      <td>NaN</td>\n",
       "      <td>NaN</td>\n",
       "    </tr>\n",
       "    <tr>\n",
       "      <th>min</th>\n",
       "      <td>NaN</td>\n",
       "      <td>NaN</td>\n",
       "      <td>NaN</td>\n",
       "      <td>NaN</td>\n",
       "      <td>5.001000e+03</td>\n",
       "      <td>NaN</td>\n",
       "      <td>NaN</td>\n",
       "      <td>NaN</td>\n",
       "      <td>NaN</td>\n",
       "    </tr>\n",
       "    <tr>\n",
       "      <th>25%</th>\n",
       "      <td>NaN</td>\n",
       "      <td>NaN</td>\n",
       "      <td>NaN</td>\n",
       "      <td>NaN</td>\n",
       "      <td>1.350000e+05</td>\n",
       "      <td>NaN</td>\n",
       "      <td>NaN</td>\n",
       "      <td>NaN</td>\n",
       "      <td>NaN</td>\n",
       "    </tr>\n",
       "    <tr>\n",
       "      <th>50%</th>\n",
       "      <td>NaN</td>\n",
       "      <td>NaN</td>\n",
       "      <td>NaN</td>\n",
       "      <td>NaN</td>\n",
       "      <td>2.270000e+05</td>\n",
       "      <td>NaN</td>\n",
       "      <td>NaN</td>\n",
       "      <td>NaN</td>\n",
       "      <td>NaN</td>\n",
       "    </tr>\n",
       "    <tr>\n",
       "      <th>75%</th>\n",
       "      <td>NaN</td>\n",
       "      <td>NaN</td>\n",
       "      <td>NaN</td>\n",
       "      <td>NaN</td>\n",
       "      <td>3.400000e+05</td>\n",
       "      <td>NaN</td>\n",
       "      <td>NaN</td>\n",
       "      <td>NaN</td>\n",
       "      <td>NaN</td>\n",
       "    </tr>\n",
       "    <tr>\n",
       "      <th>max</th>\n",
       "      <td>NaN</td>\n",
       "      <td>NaN</td>\n",
       "      <td>NaN</td>\n",
       "      <td>NaN</td>\n",
       "      <td>2.250000e+08</td>\n",
       "      <td>NaN</td>\n",
       "      <td>NaN</td>\n",
       "      <td>NaN</td>\n",
       "      <td>NaN</td>\n",
       "    </tr>\n",
       "  </tbody>\n",
       "</table>\n",
       "</div>"
      ],
      "text/plain": [
       "       Date of Sale (dd/mm/yyyy)               Address  County  Eircode  \\\n",
       "count                     694503                694503  694503   166138   \n",
       "unique                      5145                622025      26   160850   \n",
       "top                   22/12/2014  Broomfield, Midleton  Dublin  D24W9NN   \n",
       "freq                        1542                    21  217653       34   \n",
       "mean                         NaN                   NaN     NaN      NaN   \n",
       "std                          NaN                   NaN     NaN      NaN   \n",
       "min                          NaN                   NaN     NaN      NaN   \n",
       "25%                          NaN                   NaN     NaN      NaN   \n",
       "50%                          NaN                   NaN     NaN      NaN   \n",
       "75%                          NaN                   NaN     NaN      NaN   \n",
       "max                          NaN                   NaN     NaN      NaN   \n",
       "\n",
       "        Price in Euro Not Full Market Price VAT Exclusive  \\\n",
       "count    6.945030e+05                694503        694503   \n",
       "unique            NaN                     2             2   \n",
       "top               NaN                    No            No   \n",
       "freq              NaN                659594        579152   \n",
       "mean     2.977859e+05                   NaN           NaN   \n",
       "std      1.024681e+06                   NaN           NaN   \n",
       "min      5.001000e+03                   NaN           NaN   \n",
       "25%      1.350000e+05                   NaN           NaN   \n",
       "50%      2.270000e+05                   NaN           NaN   \n",
       "75%      3.400000e+05                   NaN           NaN   \n",
       "max      2.250000e+08                   NaN           NaN   \n",
       "\n",
       "                      Description of Property  \\\n",
       "count                                  694503   \n",
       "unique                                      5   \n",
       "top     Second-Hand Dwelling house /Apartment   \n",
       "freq                                   576951   \n",
       "mean                                      NaN   \n",
       "std                                       NaN   \n",
       "min                                       NaN   \n",
       "25%                                       NaN   \n",
       "50%                                       NaN   \n",
       "75%                                       NaN   \n",
       "max                                       NaN   \n",
       "\n",
       "                                Property Size Description  \n",
       "count                                               52830  \n",
       "unique                                                  6  \n",
       "top     greater than or equal to 38 sq metres and less...  \n",
       "freq                                                38096  \n",
       "mean                                                  NaN  \n",
       "std                                                   NaN  \n",
       "min                                                   NaN  \n",
       "25%                                                   NaN  \n",
       "50%                                                   NaN  \n",
       "75%                                                   NaN  \n",
       "max                                                   NaN  "
      ]
     },
     "execution_count": 6,
     "metadata": {},
     "output_type": "execute_result"
    }
   ],
   "source": [
    "df.describe(include=\"all\")\n"
   ]
  },
  {
   "cell_type": "markdown",
   "metadata": {},
   "source": [
    "Key interpretations can be made from this function, both for the quantitative and qualitative data. \n",
    "\n",
    "Null values: Confirming the observations made from .info, the count of THE \"Eircode\" and \"Property Size Description\" rows does not match the count of values the other columns, indicating missing data.\n",
    "\n",
    "###### [3] [Understanding the Output of pandas.DataFrame.describe](https://www.pythonlore.com/exploring-pandas-dataframe-describe-for-descriptive-statistics/)\n",
    "###### [4] [Pandas Documentation on pandas.DataFrame.describe](https://pandas.pydata.org/pandas-docs/version/0.20.2/generated/pandas.DataFrame.describe.html)"
   ]
  },
  {
   "cell_type": "markdown",
   "metadata": {},
   "source": [
    "#### 4.4 Check for missing data using df.isna"
   ]
  },
  {
   "cell_type": "code",
   "execution_count": 7,
   "metadata": {},
   "outputs": [
    {
     "name": "stdout",
     "output_type": "stream",
     "text": [
      "Date of Sale (dd/mm/yyyy)         0\n",
      "Address                           0\n",
      "County                            0\n",
      "Eircode                      528365\n",
      "Price in Euro                     0\n",
      "Not Full Market Price             0\n",
      "VAT Exclusive                     0\n",
      "Description of Property           0\n",
      "Property Size Description    641673\n",
      "dtype: int64\n"
     ]
    }
   ],
   "source": [
    "print(df.isna().sum())"
   ]
  },
  {
   "cell_type": "markdown",
   "metadata": {},
   "source": [
    "Two of the colums, \"Eircode\" and \"Property Size Description\" have missing values. I will keep this in  mind throughout the project."
   ]
  },
  {
   "cell_type": "markdown",
   "metadata": {},
   "source": [
    "## 5.   Data Analysis\n",
    "\n",
    "***"
   ]
  },
  {
   "cell_type": "markdown",
   "metadata": {},
   "source": [
    "### 5.1  Analysis of Property Prices in Ireland (2010-2024)\n"
   ]
  },
  {
   "cell_type": "markdown",
   "metadata": {},
   "source": [
    "Before the analysis, I need to set the `Date of Sale` from Object to datetime. "
   ]
  },
  {
   "cell_type": "code",
   "execution_count": 8,
   "metadata": {},
   "outputs": [
    {
     "data": {
      "text/plain": [
       "0         01/01/2010\n",
       "1         03/01/2010\n",
       "2         04/01/2010\n",
       "3         04/01/2010\n",
       "4         04/01/2010\n",
       "             ...    \n",
       "694498    22/11/2024\n",
       "694499    22/11/2024\n",
       "694500    22/11/2024\n",
       "694501    22/11/2024\n",
       "694502    22/11/2024\n",
       "Name: Date of Sale (dd/mm/yyyy), Length: 694503, dtype: object"
      ]
     },
     "execution_count": 8,
     "metadata": {},
     "output_type": "execute_result"
    }
   ],
   "source": [
    "df[\"Date of Sale (dd/mm/yyyy)\"]"
   ]
  },
  {
   "cell_type": "code",
   "execution_count": 9,
   "metadata": {},
   "outputs": [],
   "source": [
    "df[\"Date of Sale\"] = pd.to_datetime(df[\"Date of Sale (dd/mm/yyyy)\"], format=\"%d/%m/%Y\")"
   ]
  },
  {
   "cell_type": "code",
   "execution_count": 10,
   "metadata": {},
   "outputs": [
    {
     "data": {
      "text/plain": [
       "0        2010-01-01\n",
       "1        2010-01-03\n",
       "2        2010-01-04\n",
       "3        2010-01-04\n",
       "4        2010-01-04\n",
       "            ...    \n",
       "694498   2024-11-22\n",
       "694499   2024-11-22\n",
       "694500   2024-11-22\n",
       "694501   2024-11-22\n",
       "694502   2024-11-22\n",
       "Name: Date of Sale, Length: 694503, dtype: datetime64[ns]"
      ]
     },
     "execution_count": 10,
     "metadata": {},
     "output_type": "execute_result"
    }
   ],
   "source": [
    "df[\"Date of Sale\"]"
   ]
  },
  {
   "cell_type": "code",
   "execution_count": 11,
   "metadata": {},
   "outputs": [
    {
     "name": "stdout",
     "output_type": "stream",
     "text": [
      "0         2010\n",
      "1         2010\n",
      "2         2010\n",
      "3         2010\n",
      "4         2010\n",
      "          ... \n",
      "694498    2024\n",
      "694499    2024\n",
      "694500    2024\n",
      "694501    2024\n",
      "694502    2024\n",
      "Name: Year, Length: 694503, dtype: int32\n"
     ]
    }
   ],
   "source": [
    "df[\"Year\"] = df[\"Date of Sale\"].dt.year\n",
    "print(df[\"Year\"])"
   ]
  },
  {
   "cell_type": "code",
   "execution_count": 12,
   "metadata": {},
   "outputs": [
    {
     "name": "stdout",
     "output_type": "stream",
     "text": [
      "0          1\n",
      "1          1\n",
      "2          1\n",
      "3          1\n",
      "4          1\n",
      "          ..\n",
      "694498    11\n",
      "694499    11\n",
      "694500    11\n",
      "694501    11\n",
      "694502    11\n",
      "Name: Month, Length: 694503, dtype: int32\n"
     ]
    }
   ],
   "source": [
    "df[\"Month\"] = df[\"Date of Sale\"].dt.month\n",
    "print (df[\"Month\"])"
   ]
  },
  {
   "cell_type": "markdown",
   "metadata": {},
   "source": [
    "#### 5.1.1 Average property prices by county (2010-2024)"
   ]
  },
  {
   "cell_type": "code",
   "execution_count": 13,
   "metadata": {},
   "outputs": [
    {
     "name": "stdout",
     "output_type": "stream",
     "text": [
      "County\n",
      "Dublin       467700.0\n",
      "Wicklow      372285.0\n",
      "Kildare      310133.0\n",
      "Meath        277372.0\n",
      "Cork         259692.0\n",
      "Galway       236303.0\n",
      "Kilkenny     220146.0\n",
      "Louth        216022.0\n",
      "Limerick     202135.0\n",
      "Wexford      195099.0\n",
      "Laois        191823.0\n",
      "Waterford    191452.0\n",
      "Kerry        188500.0\n",
      "Clare        188241.0\n",
      "Westmeath    185704.0\n",
      "Carlow       181083.0\n",
      "Offaly       169068.0\n",
      "Tipperary    161583.0\n",
      "Sligo        157058.0\n",
      "Monaghan     156578.0\n",
      "Mayo         150320.0\n",
      "Cavan        144464.0\n",
      "Donegal      137105.0\n",
      "Roscommon    127897.0\n",
      "Longford     122406.0\n",
      "Leitrim      122075.0\n",
      "Name: Price in Euro, dtype: float64\n"
     ]
    }
   ],
   "source": [
    "avg_price_by_county = df.groupby(\"County\")[\"Price in Euro\"].mean().sort_values(ascending=False).round()\n",
    "print(avg_price_by_county)"
   ]
  },
  {
   "cell_type": "code",
   "execution_count": 30,
   "metadata": {},
   "outputs": [
    {
     "data": {
      "image/png": "[encoded data removed]",
      "text/plain": [
       "<Figure size 1200x600 with 1 Axes>"
      ]
     },
     "metadata": {},
     "output_type": "display_data"
    }
   ],
   "source": [
    "plt.figure(figsize=(12, 6))\n",
    "sns.set_style(\"darkgrid\")\n",
    "sns.set_palette(\"BrBG_r\")\n",
    "ax = sns.lineplot(data=avg_price_by_county, marker='o', label='Avg Price')\n",
    "plt.title('Average Property Price by County', family=\"monospace\", fontsize=15)\n",
    "#plt.xlabel=(\"County\")\n",
    "#plt.ylabel=(\"Average Price\") \n",
    "plt.legend(title=\"Average Price\",loc=\"center right\",bbox_to_anchor=(1, 0, 0.15, 1)) \n",
    "plt.xticks(rotation=45)                         \n",
    "plt.tight_layout()\n",
    "plt.show()"
   ]
  },
  {
   "cell_type": "markdown",
   "metadata": {},
   "source": [
    "#### 5.1.2 Number of property sales by county"
   ]
  },
  {
   "cell_type": "code",
   "execution_count": 25,
   "metadata": {},
   "outputs": [
    {
     "name": "stdout",
     "output_type": "stream",
     "text": [
      "<class 'pandas.core.series.Series'>\n",
      "Index: 26 entries, Monaghan to Dublin\n",
      "Series name: count\n",
      "Non-Null Count  Dtype\n",
      "--------------  -----\n",
      "26 non-null     int64\n",
      "dtypes: int64(1)\n",
      "memory usage: 1.5+ KB\n"
     ]
    }
   ],
   "source": [
    "county_counts.info()"
   ]
  },
  {
   "cell_type": "code",
   "execution_count": 16,
   "metadata": {},
   "outputs": [
    {
     "name": "stdout",
     "output_type": "stream",
     "text": [
      "County\n",
      "Monaghan       5475\n",
      "Longford       5954\n",
      "Leitrim        6224\n",
      "Carlow         7677\n",
      "Offaly         8806\n",
      "Roscommon      9976\n",
      "Sligo         10208\n",
      "Cavan         10466\n",
      "Kilkenny      11024\n",
      "Laois         11194\n",
      "Westmeath     13446\n",
      "Clare         15650\n",
      "Mayo          16667\n",
      "Tipperary     18684\n",
      "Donegal       18693\n",
      "Louth         18966\n",
      "Waterford     19128\n",
      "Kerry         19460\n",
      "Wicklow       23105\n",
      "Wexford       24193\n",
      "Limerick      25602\n",
      "Meath         28622\n",
      "Galway        33874\n",
      "Kildare       37418\n",
      "Cork          76338\n",
      "Dublin       217653\n",
      "Name: count, dtype: int64\n"
     ]
    }
   ],
   "source": [
    "county_counts = df[\"County\"].value_counts().sort_values()\n",
    "print(county_counts)"
   ]
  },
  {
   "cell_type": "code",
   "execution_count": 31,
   "metadata": {},
   "outputs": [
    {
     "data": {
      "image/png": "[encoded data removed]",
      "text/plain": [
       "<Figure size 1200x600 with 1 Axes>"
      ]
     },
     "metadata": {},
     "output_type": "display_data"
    }
   ],
   "source": [
    "plt.figure(figsize=(12, 6))\n",
    "sns.set_style(\"darkgrid\")\n",
    "sns.set_palette(\"BrBG_r\")\n",
    "ax = sns.barplot(data=county_counts, label=\"Number\")\n",
    "plt.title(\"Number of property sales by county\", family=\"monospace\", fontsize=15)\n",
    "#plt.xlabel=(\"County\")\n",
    "#plt.ylabel=(\"Count\") \n",
    "plt.legend(title=\"Count of Sales\",loc=\"center right\",bbox_to_anchor=(1, 0, 0.15, 1)) \n",
    "plt.xticks(rotation=45)                         \n",
    "plt.tight_layout()\n",
    "plt.show()"
   ]
  },
  {
   "cell_type": "markdown",
   "metadata": {},
   "source": [
    "Playing around"
   ]
  },
  {
   "cell_type": "code",
   "execution_count": 23,
   "metadata": {},
   "outputs": [
    {
     "ename": "TypeError",
     "evalue": "'str' object is not callable",
     "output_type": "error",
     "traceback": [
      "\u001b[1;31m---------------------------------------------------------------------------\u001b[0m",
      "\u001b[1;31mTypeError\u001b[0m                                 Traceback (most recent call last)",
      "Cell \u001b[1;32mIn[23], line 8\u001b[0m\n\u001b[0;32m      6\u001b[0m plt\u001b[38;5;241m.\u001b[39mlegend(title\u001b[38;5;241m=\u001b[39m\u001b[38;5;124m\"\u001b[39m\u001b[38;5;124mCount of Sales\u001b[39m\u001b[38;5;124m\"\u001b[39m,loc\u001b[38;5;241m=\u001b[39m\u001b[38;5;124m\"\u001b[39m\u001b[38;5;124mcenter right\u001b[39m\u001b[38;5;124m\"\u001b[39m,bbox_to_anchor\u001b[38;5;241m=\u001b[39m(\u001b[38;5;241m1\u001b[39m, \u001b[38;5;241m0\u001b[39m, \u001b[38;5;241m0.15\u001b[39m, \u001b[38;5;241m1\u001b[39m)) \n\u001b[0;32m      7\u001b[0m plt\u001b[38;5;241m.\u001b[39mxticks(rotation\u001b[38;5;241m=\u001b[39m\u001b[38;5;241m45\u001b[39m)   \n\u001b[1;32m----> 8\u001b[0m plt\u001b[38;5;241m.\u001b[39mxlabel(\u001b[38;5;124m\"\u001b[39m\u001b[38;5;124mCounty\u001b[39m\u001b[38;5;124m\"\u001b[39m)\n\u001b[0;32m      9\u001b[0m plt\u001b[38;5;241m.\u001b[39mylabel(\u001b[38;5;124m\"\u001b[39m\u001b[38;5;124mCount\u001b[39m\u001b[38;5;124m\"\u001b[39m)                       \n\u001b[0;32m     10\u001b[0m plt\u001b[38;5;241m.\u001b[39mtight_layout()\n",
      "\u001b[1;31mTypeError\u001b[0m: 'str' object is not callable"
     ]
    },
    {
     "data": {
      "image/png": "[encoded data removed]",
      "text/plain": [
       "<Figure size 1200x600 with 1 Axes>"
      ]
     },
     "metadata": {},
     "output_type": "display_data"
    }
   ],
   "source": [
    "plt.figure(figsize=(12, 6))\n",
    "sns.set_style(\"darkgrid\")\n",
    "sns.set_palette(\"BrBG_r\")\n",
    "ax = sns.barplot(data=county_counts,label=\"Count\")\n",
    "plt.title(\"Number of property sales by county\", family=\"monospace\", fontsize=15)\n",
    "plt.legend(title=\"Count of Sales\",loc=\"center right\",bbox_to_anchor=(1, 0, 0.15, 1)) \n",
    "plt.xticks(rotation=45)   \n",
    "plt.xlabel(\"County\")\n",
    "plt.ylabel(\"Count\")                       \n",
    "plt.tight_layout()\n",
    "plt.show()"
   ]
  },
  {
   "cell_type": "markdown",
   "metadata": {},
   "source": [
    "#### 5.1.3 Average property prices by year (2010-2024)"
   ]
  },
  {
   "cell_type": "code",
   "execution_count": 63,
   "metadata": {},
   "outputs": [
    {
     "name": "stdout",
     "output_type": "stream",
     "text": [
      "Year\n",
      "2012    193576.0\n",
      "2013    205914.0\n",
      "2011    214570.0\n",
      "2014    214599.0\n",
      "2015    220101.0\n",
      "2010    242910.0\n",
      "2016    244594.0\n",
      "2017    265698.0\n",
      "2018    293751.0\n",
      "2019    306668.0\n",
      "2020    317559.0\n",
      "2021    339473.0\n",
      "2022    378150.0\n",
      "2023    389107.0\n",
      "2024    405453.0\n",
      "Name: Price in Euro, dtype: float64\n"
     ]
    }
   ],
   "source": [
    "avg_price_by_month = df.groupby(\"Year\")[\"Price in Euro\"].mean().round().sort_values()\n",
    "print(avg_price_by_month)"
   ]
  },
  {
   "cell_type": "markdown",
   "metadata": {},
   "source": [
    "#### 5.1.4 Average property prices by month (2010-2024)"
   ]
  },
  {
   "cell_type": "code",
   "execution_count": 64,
   "metadata": {},
   "outputs": [
    {
     "name": "stdout",
     "output_type": "stream",
     "text": [
      "Month\n",
      "5     282617.0\n",
      "1     283823.0\n",
      "3     287168.0\n",
      "4     288848.0\n",
      "2     293714.0\n",
      "11    295199.0\n",
      "12    300688.0\n",
      "6     303963.0\n",
      "8     304590.0\n",
      "7     306255.0\n",
      "10    306818.0\n",
      "9     307859.0\n",
      "Name: Price in Euro, dtype: float64\n"
     ]
    }
   ],
   "source": [
    "avg_price_by_month = df.groupby(\"Month\")[\"Price in Euro\"].mean().round().sort_values()\n",
    "print(avg_price_by_month)"
   ]
  },
  {
   "cell_type": "markdown",
   "metadata": {},
   "source": [
    "#### 5.1.5 Number of occurrences of each property type"
   ]
  },
  {
   "cell_type": "code",
   "execution_count": 65,
   "metadata": {},
   "outputs": [
    {
     "name": "stdout",
     "output_type": "stream",
     "text": [
      "Description of Property\n",
      "Teach/?ras?n C?naithe Nua                     1\n",
      "Teach/arasan Conaithe Nua                     3\n",
      "Teach/arasan Conaithe Athaimhe               40\n",
      "New Dwelling house /Apartment            117508\n",
      "Second-Hand Dwelling house /Apartment    576951\n",
      "Name: count, dtype: int64\n"
     ]
    }
   ],
   "source": [
    "description_of_property_counts = df[\"Description of Property\"].value_counts().sort_values()\n",
    "print(description_of_property_counts)"
   ]
  },
  {
   "cell_type": "markdown",
   "metadata": {},
   "source": [
    "#### 5.1.6 Average property prices by property type (2010-2024)"
   ]
  },
  {
   "cell_type": "code",
   "execution_count": 66,
   "metadata": {},
   "outputs": [
    {
     "name": "stdout",
     "output_type": "stream",
     "text": [
      "Description of Property\n",
      "Teach/?ras?n C?naithe Nua                115045.0\n",
      "Teach/arasan Conaithe Nua                253318.0\n",
      "Second-Hand Dwelling house /Apartment    281047.0\n",
      "Teach/arasan Conaithe Athaimhe           326982.0\n",
      "New Dwelling house /Apartment            379966.0\n",
      "Name: Price in Euro, dtype: float64\n"
     ]
    }
   ],
   "source": [
    "avg_price_by_property_type = df.groupby(\"Description of Property\")[\"Price in Euro\"].mean().round().sort_values()\n",
    "print(avg_price_by_property_type)"
   ]
  },
  {
   "cell_type": "markdown",
   "metadata": {},
   "source": [
    "#### 5.1.7 Full Market price comparison"
   ]
  },
  {
   "cell_type": "code",
   "execution_count": 67,
   "metadata": {},
   "outputs": [
    {
     "name": "stdout",
     "output_type": "stream",
     "text": [
      "Not Full Market Price\n",
      "No     659594\n",
      "Yes     34909\n",
      "Name: count, dtype: int64\n"
     ]
    }
   ],
   "source": [
    "full_market_price_counts = df[\"Not Full Market Price\"].value_counts()\n",
    "print(full_market_price_counts)"
   ]
  },
  {
   "cell_type": "markdown",
   "metadata": {},
   "source": [
    "#### 5.1.8 County with the highest and lowest average property prices"
   ]
  },
  {
   "cell_type": "code",
   "execution_count": 68,
   "metadata": {},
   "outputs": [
    {
     "name": "stdout",
     "output_type": "stream",
     "text": [
      "Dublin has the highest average property price in Ireland, with an average price of €467700.\n"
     ]
    }
   ],
   "source": [
    "highest_avg_price_county = avg_price_by_county.idxmax()\n",
    "highest_avg_price = int(avg_price_by_county.max())\n",
    "#print(highest_avg_price_county)\n",
    "#print(int(highest_avg_price))\n",
    "print(f\"{highest_avg_price_county} has the highest average property price in Ireland, with an average price of €{highest_avg_price}.\")"
   ]
  },
  {
   "cell_type": "code",
   "execution_count": 69,
   "metadata": {},
   "outputs": [
    {
     "name": "stdout",
     "output_type": "stream",
     "text": [
      "Leitrim has the lowest average property price in Ireland, with an average price of €122075.\n"
     ]
    }
   ],
   "source": [
    "lowest_avg_price_county = avg_price_by_county.idxmin()\n",
    "lowest_avg_price = int(avg_price_by_county.min())\n",
    "#print(lowest_avg_price_county)\n",
    "#print(lowest_avg_price)\n",
    "print(f\"{lowest_avg_price_county} has the lowest average property price in Ireland, with an average price of €{lowest_avg_price}.\")"
   ]
  },
  {
   "cell_type": "markdown",
   "metadata": {},
   "source": [
    "### 5.2 Analysis of Property Prices for all years in Mayo (2010-2024)\n"
   ]
  },
  {
   "cell_type": "markdown",
   "metadata": {},
   "source": [
    "#### 5.2.1 Data Preparation for Analysis"
   ]
  },
  {
   "cell_type": "code",
   "execution_count": 70,
   "metadata": {},
   "outputs": [
    {
     "name": "stdout",
     "output_type": "stream",
     "text": [
      "       Date of Sale (dd/mm/yyyy)                                     Address  \\\n",
      "30                    04/01/2010    CARROWTRASNA, CARROWMORE LACKEN, BALLINA   \n",
      "35                    04/01/2010  No. 11 Blackrock Court, Quay Road, Ballina   \n",
      "46                    05/01/2010   13  Slievemore Apartments, Dugort, Achill   \n",
      "232                   11/01/2010           33, St. Patrick's Estate, Ballina   \n",
      "246                   11/01/2010                          Lawaus, Ballindine   \n",
      "...                          ...                                         ...   \n",
      "694316                20/11/2024           27 GLENBROOK, KILTIMAGH RD, KNOCK   \n",
      "694366                20/11/2024             KNOCKANANY, MOYGOWNAGH, BALLINA   \n",
      "694442                21/11/2024                KNAPPAGH BEG, WESTPORT, MAYO   \n",
      "694460                22/11/2024       14 OAK VIEW, TURLOUGH ROAD, CASTLEBAR   \n",
      "694476                22/11/2024               4 MEADOW PARK, SWINFORD, MAYO   \n",
      "\n",
      "       County  Eircode  Price in Euro Not Full Market Price VAT Exclusive  \\\n",
      "30       Mayo      NaN       245000.0                    No            No   \n",
      "35       Mayo      NaN       172500.0                    No            No   \n",
      "46       Mayo      NaN       120000.0                    No           Yes   \n",
      "232      Mayo      NaN       127000.0                    No            No   \n",
      "246      Mayo      NaN        60000.0                   Yes            No   \n",
      "...       ...      ...            ...                   ...           ...   \n",
      "694316   Mayo  F12NH28       226000.0                    No            No   \n",
      "694366   Mayo      NaN       105000.0                    No            No   \n",
      "694442   Mayo  F28KW88       490000.0                    No            No   \n",
      "694460   Mayo  F23EW61       264000.0                    No            No   \n",
      "694476   Mayo  F12CK24       276000.0                    No            No   \n",
      "\n",
      "                      Description of Property  \\\n",
      "30      Second-Hand Dwelling house /Apartment   \n",
      "35      Second-Hand Dwelling house /Apartment   \n",
      "46              New Dwelling house /Apartment   \n",
      "232     Second-Hand Dwelling house /Apartment   \n",
      "246     Second-Hand Dwelling house /Apartment   \n",
      "...                                       ...   \n",
      "694316  Second-Hand Dwelling house /Apartment   \n",
      "694366  Second-Hand Dwelling house /Apartment   \n",
      "694442  Second-Hand Dwelling house /Apartment   \n",
      "694460  Second-Hand Dwelling house /Apartment   \n",
      "694476  Second-Hand Dwelling house /Apartment   \n",
      "\n",
      "                                Property Size Description Date of Sale  Year  \\\n",
      "30                                                    NaN   2010-01-04  2010   \n",
      "35                                                    NaN   2010-01-04  2010   \n",
      "46      greater than or equal to 38 sq metres and less...   2010-01-05  2010   \n",
      "232                                                   NaN   2010-01-11  2010   \n",
      "246                                                   NaN   2010-01-11  2010   \n",
      "...                                                   ...          ...   ...   \n",
      "694316                                                NaN   2024-11-20  2024   \n",
      "694366                                                NaN   2024-11-20  2024   \n",
      "694442                                                NaN   2024-11-21  2024   \n",
      "694460                                                NaN   2024-11-22  2024   \n",
      "694476                                                NaN   2024-11-22  2024   \n",
      "\n",
      "        Month  \n",
      "30          1  \n",
      "35          1  \n",
      "46          1  \n",
      "232         1  \n",
      "246         1  \n",
      "...       ...  \n",
      "694316     11  \n",
      "694366     11  \n",
      "694442     11  \n",
      "694460     11  \n",
      "694476     11  \n",
      "\n",
      "[16667 rows x 12 columns]\n"
     ]
    }
   ],
   "source": [
    "df_mayo = df[df[\"County\"] == \"Mayo\"]\n",
    "print(df_mayo)"
   ]
  },
  {
   "cell_type": "markdown",
   "metadata": {},
   "source": [
    "Before the analysis, I need to set the `Date of Sale` from Object to datetime. "
   ]
  },
  {
   "cell_type": "code",
   "execution_count": 71,
   "metadata": {},
   "outputs": [
    {
     "data": {
      "text/plain": [
       "30        04/01/2010\n",
       "35        04/01/2010\n",
       "46        05/01/2010\n",
       "232       11/01/2010\n",
       "246       11/01/2010\n",
       "             ...    \n",
       "694316    20/11/2024\n",
       "694366    20/11/2024\n",
       "694442    21/11/2024\n",
       "694460    22/11/2024\n",
       "694476    22/11/2024\n",
       "Name: Date of Sale (dd/mm/yyyy), Length: 16667, dtype: object"
      ]
     },
     "execution_count": 71,
     "metadata": {},
     "output_type": "execute_result"
    }
   ],
   "source": [
    "df_mayo[\"Date of Sale (dd/mm/yyyy)\"]"
   ]
  },
  {
   "cell_type": "code",
   "execution_count": 72,
   "metadata": {},
   "outputs": [
    {
     "name": "stderr",
     "output_type": "stream",
     "text": [
      "C:\\Users\\curleys\\AppData\\Local\\Temp\\ipykernel_28328\\1248909470.py:1: SettingWithCopyWarning: \n",
      "A value is trying to be set on a copy of a slice from a DataFrame.\n",
      "Try using .loc[row_indexer,col_indexer] = value instead\n",
      "\n",
      "See the caveats in the documentation: https://pandas.pydata.org/pandas-docs/stable/user_guide/indexing.html#returning-a-view-versus-a-copy\n",
      "  df_mayo[\"Date of Sale\"] = pd.to_datetime(df_mayo[\"Date of Sale (dd/mm/yyyy)\"], format=\"%d/%m/%Y\")\n"
     ]
    }
   ],
   "source": [
    "df_mayo[\"Date of Sale\"] = pd.to_datetime(df_mayo[\"Date of Sale (dd/mm/yyyy)\"], format=\"%d/%m/%Y\")"
   ]
  },
  {
   "cell_type": "code",
   "execution_count": 73,
   "metadata": {},
   "outputs": [
    {
     "data": {
      "text/plain": [
       "30       2010-01-04\n",
       "35       2010-01-04\n",
       "46       2010-01-05\n",
       "232      2010-01-11\n",
       "246      2010-01-11\n",
       "            ...    \n",
       "694316   2024-11-20\n",
       "694366   2024-11-20\n",
       "694442   2024-11-21\n",
       "694460   2024-11-22\n",
       "694476   2024-11-22\n",
       "Name: Date of Sale, Length: 16667, dtype: datetime64[ns]"
      ]
     },
     "execution_count": 73,
     "metadata": {},
     "output_type": "execute_result"
    }
   ],
   "source": [
    "df_mayo[\"Date of Sale\"]"
   ]
  },
  {
   "cell_type": "markdown",
   "metadata": {},
   "source": [
    "Set the index to datetime"
   ]
  },
  {
   "cell_type": "code",
   "execution_count": 74,
   "metadata": {},
   "outputs": [],
   "source": [
    "df_mayo.set_index(\"Date of Sale\", inplace=True)"
   ]
  },
  {
   "cell_type": "markdown",
   "metadata": {},
   "source": [
    "#### 5.2.2 Average Mayo Property Price by Year"
   ]
  },
  {
   "cell_type": "code",
   "execution_count": 75,
   "metadata": {},
   "outputs": [
    {
     "name": "stdout",
     "output_type": "stream",
     "text": [
      "Date of Sale\n",
      "2010-12-31    158670.0\n",
      "2011-12-31    139631.0\n",
      "2012-12-31    107723.0\n",
      "2013-12-31    109648.0\n",
      "2014-12-31    106284.0\n",
      "2015-12-31    113996.0\n",
      "2016-12-31    112528.0\n",
      "2017-12-31    131097.0\n",
      "2018-12-31    133454.0\n",
      "2019-12-31    139966.0\n",
      "2020-12-31    145103.0\n",
      "2021-12-31    166571.0\n",
      "2022-12-31    194082.0\n",
      "2023-12-31    204554.0\n",
      "2024-12-31    222443.0\n",
      "Freq: YE-DEC, Name: Price in Euro, dtype: float64\n"
     ]
    },
    {
     "name": "stderr",
     "output_type": "stream",
     "text": [
      "C:\\Users\\curleys\\AppData\\Local\\Temp\\ipykernel_28328\\1804604448.py:1: FutureWarning: 'Y' is deprecated and will be removed in a future version, please use 'YE' instead.\n",
      "  yearly_mayo = df_mayo[\"Price in Euro\"].resample(\"Y\").mean().round()\n"
     ]
    }
   ],
   "source": [
    "yearly_mayo = df_mayo[\"Price in Euro\"].resample(\"Y\").mean().round()\n",
    "print(yearly_mayo)"
   ]
  },
  {
   "cell_type": "markdown",
   "metadata": {},
   "source": [
    "#### 5.2.3 Average Mayo Property Price by Month"
   ]
  },
  {
   "cell_type": "code",
   "execution_count": 76,
   "metadata": {},
   "outputs": [
    {
     "name": "stdout",
     "output_type": "stream",
     "text": [
      "Date of Sale\n",
      "2010-01-31    137536.0\n",
      "2010-02-28    162933.0\n",
      "2010-03-31    176979.0\n",
      "2010-04-30    171499.0\n",
      "2010-05-31    156450.0\n",
      "                ...   \n",
      "2024-07-31    251376.0\n",
      "2024-08-31    223248.0\n",
      "2024-09-30    218310.0\n",
      "2024-10-31    235069.0\n",
      "2024-11-30    212091.0\n",
      "Freq: ME, Name: Price in Euro, Length: 179, dtype: float64\n"
     ]
    },
    {
     "name": "stderr",
     "output_type": "stream",
     "text": [
      "C:\\Users\\curleys\\AppData\\Local\\Temp\\ipykernel_28328\\4182137341.py:1: FutureWarning: 'M' is deprecated and will be removed in a future version, please use 'ME' instead.\n",
      "  monthly_mayo = df_mayo[\"Price in Euro\"].resample(\"M\").mean().round()\n"
     ]
    }
   ],
   "source": [
    "monthly_mayo = df_mayo[\"Price in Euro\"].resample(\"M\").mean().round()\n",
    "print(monthly_mayo)"
   ]
  },
  {
   "cell_type": "markdown",
   "metadata": {},
   "source": [
    "#### 5.2.4 Average Mayo Property Price by month in 2024"
   ]
  },
  {
   "cell_type": "code",
   "execution_count": 27,
   "metadata": {},
   "outputs": [
    {
     "name": "stdout",
     "output_type": "stream",
     "text": [
      "             Date of Sale (dd/mm/yyyy)  \\\n",
      "Date of Sale                             \n",
      "2024-01-02                  02/01/2024   \n",
      "2024-01-02                  02/01/2024   \n",
      "2024-01-03                  03/01/2024   \n",
      "2024-01-03                  03/01/2024   \n",
      "2024-01-03                  03/01/2024   \n",
      "...                                ...   \n",
      "2024-11-20                  20/11/2024   \n",
      "2024-11-20                  20/11/2024   \n",
      "2024-11-21                  21/11/2024   \n",
      "2024-11-22                  22/11/2024   \n",
      "2024-11-22                  22/11/2024   \n",
      "\n",
      "                                                  Address County  Eircode  \\\n",
      "Date of Sale                                                                \n",
      "2024-01-02    151 GREENHILLS ESTATE, BALLINA, COUNTY MAYO   Mayo  F26V1K2   \n",
      "2024-01-02           BOHAUN COTTAGE, KILLAVALLY, WESTPORT   Mayo  F28F653   \n",
      "2024-01-03                15 THE WILLOWS, CASTLEBAR, MAYO   Mayo  F23FH50   \n",
      "2024-01-03              26 BARLEYHILL COURT, BOHOLA, MAYO   Mayo  F12KH28   \n",
      "2024-01-03                 KILQUIRE UPPER, KILMAINE, MAYO   Mayo  F31TX00   \n",
      "...                                                   ...    ...      ...   \n",
      "2024-11-20              27 GLENBROOK, KILTIMAGH RD, KNOCK   Mayo  F12NH28   \n",
      "2024-11-20                KNOCKANANY, MOYGOWNAGH, BALLINA   Mayo      NaN   \n",
      "2024-11-21                   KNAPPAGH BEG, WESTPORT, MAYO   Mayo  F28KW88   \n",
      "2024-11-22          14 OAK VIEW, TURLOUGH ROAD, CASTLEBAR   Mayo  F23EW61   \n",
      "2024-11-22                  4 MEADOW PARK, SWINFORD, MAYO   Mayo  F12CK24   \n",
      "\n",
      "              Price in Euro Not Full Market Price VAT Exclusive  \\\n",
      "Date of Sale                                                      \n",
      "2024-01-02          95000.0                    No            No   \n",
      "2024-01-02         215000.0                    No            No   \n",
      "2024-01-03         210000.0                    No            No   \n",
      "2024-01-03         190000.0                    No            No   \n",
      "2024-01-03         284000.0                    No            No   \n",
      "...                     ...                   ...           ...   \n",
      "2024-11-20         226000.0                    No            No   \n",
      "2024-11-20         105000.0                    No            No   \n",
      "2024-11-21         490000.0                    No            No   \n",
      "2024-11-22         264000.0                    No            No   \n",
      "2024-11-22         276000.0                    No            No   \n",
      "\n",
      "                            Description of Property Property Size Description  \n",
      "Date of Sale                                                                   \n",
      "2024-01-02    Second-Hand Dwelling house /Apartment                       NaN  \n",
      "2024-01-02    Second-Hand Dwelling house /Apartment                       NaN  \n",
      "2024-01-03    Second-Hand Dwelling house /Apartment                       NaN  \n",
      "2024-01-03    Second-Hand Dwelling house /Apartment                       NaN  \n",
      "2024-01-03    Second-Hand Dwelling house /Apartment                       NaN  \n",
      "...                                             ...                       ...  \n",
      "2024-11-20    Second-Hand Dwelling house /Apartment                       NaN  \n",
      "2024-11-20    Second-Hand Dwelling house /Apartment                       NaN  \n",
      "2024-11-21    Second-Hand Dwelling house /Apartment                       NaN  \n",
      "2024-11-22    Second-Hand Dwelling house /Apartment                       NaN  \n",
      "2024-11-22    Second-Hand Dwelling house /Apartment                       NaN  \n",
      "\n",
      "[1170 rows x 9 columns]\n"
     ]
    }
   ],
   "source": [
    "df_mayo_2024=df_mayo[df_mayo.index.year==2024]\n",
    "print(df_mayo_2024)"
   ]
  },
  {
   "cell_type": "markdown",
   "metadata": {},
   "source": [
    "Before the analysis, I need to set the `Date of Sale` from Object to datetime. "
   ]
  },
  {
   "cell_type": "code",
   "execution_count": 77,
   "metadata": {},
   "outputs": [
    {
     "data": {
      "text/plain": [
       "Date of Sale\n",
       "2024-01-02    02/01/2024\n",
       "2024-01-02    02/01/2024\n",
       "2024-01-03    03/01/2024\n",
       "2024-01-03    03/01/2024\n",
       "2024-01-03    03/01/2024\n",
       "                 ...    \n",
       "2024-11-20    20/11/2024\n",
       "2024-11-20    20/11/2024\n",
       "2024-11-21    21/11/2024\n",
       "2024-11-22    22/11/2024\n",
       "2024-11-22    22/11/2024\n",
       "Name: Date of Sale (dd/mm/yyyy), Length: 1170, dtype: object"
      ]
     },
     "execution_count": 77,
     "metadata": {},
     "output_type": "execute_result"
    }
   ],
   "source": [
    "df_mayo_2024[\"Date of Sale (dd/mm/yyyy)\"]"
   ]
  },
  {
   "cell_type": "code",
   "execution_count": 78,
   "metadata": {},
   "outputs": [
    {
     "name": "stdout",
     "output_type": "stream",
     "text": [
      "             Date of Sale (dd/mm/yyyy)  \\\n",
      "Date of Sale                             \n",
      "2024-01-02                  02/01/2024   \n",
      "2024-01-02                  02/01/2024   \n",
      "2024-01-03                  03/01/2024   \n",
      "2024-01-03                  03/01/2024   \n",
      "2024-01-03                  03/01/2024   \n",
      "...                                ...   \n",
      "2024-11-20                  20/11/2024   \n",
      "2024-11-20                  20/11/2024   \n",
      "2024-11-21                  21/11/2024   \n",
      "2024-11-22                  22/11/2024   \n",
      "2024-11-22                  22/11/2024   \n",
      "\n",
      "                                                  Address County  Eircode  \\\n",
      "Date of Sale                                                                \n",
      "2024-01-02    151 GREENHILLS ESTATE, BALLINA, COUNTY MAYO   Mayo  F26V1K2   \n",
      "2024-01-02           BOHAUN COTTAGE, KILLAVALLY, WESTPORT   Mayo  F28F653   \n",
      "2024-01-03                15 THE WILLOWS, CASTLEBAR, MAYO   Mayo  F23FH50   \n",
      "2024-01-03              26 BARLEYHILL COURT, BOHOLA, MAYO   Mayo  F12KH28   \n",
      "2024-01-03                 KILQUIRE UPPER, KILMAINE, MAYO   Mayo  F31TX00   \n",
      "...                                                   ...    ...      ...   \n",
      "2024-11-20              27 GLENBROOK, KILTIMAGH RD, KNOCK   Mayo  F12NH28   \n",
      "2024-11-20                KNOCKANANY, MOYGOWNAGH, BALLINA   Mayo      NaN   \n",
      "2024-11-21                   KNAPPAGH BEG, WESTPORT, MAYO   Mayo  F28KW88   \n",
      "2024-11-22          14 OAK VIEW, TURLOUGH ROAD, CASTLEBAR   Mayo  F23EW61   \n",
      "2024-11-22                  4 MEADOW PARK, SWINFORD, MAYO   Mayo  F12CK24   \n",
      "\n",
      "              Price in Euro Not Full Market Price VAT Exclusive  \\\n",
      "Date of Sale                                                      \n",
      "2024-01-02          95000.0                    No            No   \n",
      "2024-01-02         215000.0                    No            No   \n",
      "2024-01-03         210000.0                    No            No   \n",
      "2024-01-03         190000.0                    No            No   \n",
      "2024-01-03         284000.0                    No            No   \n",
      "...                     ...                   ...           ...   \n",
      "2024-11-20         226000.0                    No            No   \n",
      "2024-11-20         105000.0                    No            No   \n",
      "2024-11-21         490000.0                    No            No   \n",
      "2024-11-22         264000.0                    No            No   \n",
      "2024-11-22         276000.0                    No            No   \n",
      "\n",
      "                            Description of Property Property Size Description  \\\n",
      "Date of Sale                                                                    \n",
      "2024-01-02    Second-Hand Dwelling house /Apartment                       NaN   \n",
      "2024-01-02    Second-Hand Dwelling house /Apartment                       NaN   \n",
      "2024-01-03    Second-Hand Dwelling house /Apartment                       NaN   \n",
      "2024-01-03    Second-Hand Dwelling house /Apartment                       NaN   \n",
      "2024-01-03    Second-Hand Dwelling house /Apartment                       NaN   \n",
      "...                                             ...                       ...   \n",
      "2024-11-20    Second-Hand Dwelling house /Apartment                       NaN   \n",
      "2024-11-20    Second-Hand Dwelling house /Apartment                       NaN   \n",
      "2024-11-21    Second-Hand Dwelling house /Apartment                       NaN   \n",
      "2024-11-22    Second-Hand Dwelling house /Apartment                       NaN   \n",
      "2024-11-22    Second-Hand Dwelling house /Apartment                       NaN   \n",
      "\n",
      "             Date of Sale  \n",
      "Date of Sale               \n",
      "2024-01-02     2024-01-02  \n",
      "2024-01-02     2024-01-02  \n",
      "2024-01-03     2024-01-03  \n",
      "2024-01-03     2024-01-03  \n",
      "2024-01-03     2024-01-03  \n",
      "...                   ...  \n",
      "2024-11-20     2024-11-20  \n",
      "2024-11-20     2024-11-20  \n",
      "2024-11-21     2024-11-21  \n",
      "2024-11-22     2024-11-22  \n",
      "2024-11-22     2024-11-22  \n",
      "\n",
      "[1170 rows x 10 columns]\n"
     ]
    }
   ],
   "source": [
    "df_mayo_2024[\"Date of Sale\"] = pd.to_datetime(df_mayo_2024[\"Date of Sale (dd/mm/yyyy)\"], format=\"%d/%m/%Y\")\n",
    "print(df_mayo_2024)"
   ]
  },
  {
   "cell_type": "markdown",
   "metadata": {},
   "source": [
    "Set the new datetime column as the index"
   ]
  },
  {
   "cell_type": "code",
   "execution_count": 79,
   "metadata": {},
   "outputs": [],
   "source": [
    "df_mayo_2024.set_index(\"Date of Sale\", inplace=True)"
   ]
  },
  {
   "cell_type": "code",
   "execution_count": 80,
   "metadata": {},
   "outputs": [
    {
     "name": "stdout",
     "output_type": "stream",
     "text": [
      "Date of Sale\n",
      "2024-01-31    188234.0\n",
      "2024-02-29    198817.0\n",
      "2024-03-31    230541.0\n",
      "2024-04-30    227639.0\n",
      "2024-05-31    211512.0\n",
      "2024-06-30    239625.0\n",
      "2024-07-31    251376.0\n",
      "2024-08-31    223248.0\n",
      "2024-09-30    218310.0\n",
      "2024-10-31    235069.0\n",
      "2024-11-30    212091.0\n",
      "Freq: ME, Name: Price in Euro, dtype: float64\n"
     ]
    },
    {
     "name": "stderr",
     "output_type": "stream",
     "text": [
      "C:\\Users\\curleys\\AppData\\Local\\Temp\\ipykernel_28328\\2823886978.py:1: FutureWarning: 'M' is deprecated and will be removed in a future version, please use 'ME' instead.\n",
      "  monthly_mayo_2024 = df_mayo_2024[\"Price in Euro\"].resample(\"M\").mean().round()\n"
     ]
    }
   ],
   "source": [
    "monthly_mayo_2024 = df_mayo_2024[\"Price in Euro\"].resample(\"M\").mean().round()\n",
    "print(monthly_mayo_2024)"
   ]
  },
  {
   "cell_type": "markdown",
   "metadata": {},
   "source": [
    "#### 5.2.5 Number of property sales in Mayo in 2024"
   ]
  },
  {
   "cell_type": "code",
   "execution_count": 81,
   "metadata": {},
   "outputs": [
    {
     "name": "stdout",
     "output_type": "stream",
     "text": [
      "County\n",
      "Mayo    1170\n",
      "Name: count, dtype: int64\n"
     ]
    }
   ],
   "source": [
    "mayo_counts = df_mayo_2024[\"County\"].value_counts().sort_values()\n",
    "print(mayo_counts)"
   ]
  },
  {
   "cell_type": "markdown",
   "metadata": {},
   "source": [
    "#### 5.2.6 Number of occurrences of each property type in Mayo"
   ]
  },
  {
   "cell_type": "code",
   "execution_count": 82,
   "metadata": {},
   "outputs": [
    {
     "name": "stdout",
     "output_type": "stream",
     "text": [
      "Description of Property\n",
      "New Dwelling house /Apartment              76\n",
      "Second-Hand Dwelling house /Apartment    1094\n",
      "Name: count, dtype: int64\n"
     ]
    }
   ],
   "source": [
    "description_of_property_counts_mayo = df_mayo_2024[\"Description of Property\"].value_counts().sort_values()\n",
    "print(description_of_property_counts_mayo)"
   ]
  },
  {
   "cell_type": "markdown",
   "metadata": {},
   "source": [
    "#### 5.2.7 Average proprety price by property type in Mayo in 2024"
   ]
  },
  {
   "cell_type": "code",
   "execution_count": 83,
   "metadata": {},
   "outputs": [
    {
     "name": "stdout",
     "output_type": "stream",
     "text": [
      "Description of Property\n",
      "Second-Hand Dwelling house /Apartment    211878.0\n",
      "New Dwelling house /Apartment            374523.0\n",
      "Name: Price in Euro, dtype: float64\n"
     ]
    }
   ],
   "source": [
    "avg_price_by_property_type_mayo = df_mayo_2024.groupby(\"Description of Property\")[\"Price in Euro\"].mean().round().sort_values()\n",
    "print(avg_price_by_property_type_mayo)"
   ]
  },
  {
   "cell_type": "markdown",
   "metadata": {},
   "source": [
    "#### 5.2.8  Full Market price comparison in Mayo"
   ]
  },
  {
   "cell_type": "code",
   "execution_count": 84,
   "metadata": {},
   "outputs": [
    {
     "name": "stdout",
     "output_type": "stream",
     "text": [
      "Not Full Market Price\n",
      "No     1140\n",
      "Yes      30\n",
      "Name: count, dtype: int64\n"
     ]
    }
   ],
   "source": [
    "full_market_price_counts_mayo = df_mayo_2024[\"Not Full Market Price\"].value_counts()\n",
    "print(full_market_price_counts_mayo)"
   ]
  },
  {
   "cell_type": "markdown",
   "metadata": {},
   "source": [
    "### 5.3 Analysis of Property Prices in Castlebar (2010-2024)"
   ]
  },
  {
   "cell_type": "markdown",
   "metadata": {},
   "source": [
    "#### 5.3.1"
   ]
  },
  {
   "cell_type": "code",
   "execution_count": 90,
   "metadata": {},
   "outputs": [
    {
     "name": "stdout",
     "output_type": "stream",
     "text": [
      "             Date of Sale (dd/mm/yyyy)  \\\n",
      "Date of Sale                             \n",
      "2024-01-03                  03/01/2024   \n",
      "2024-01-04                  04/01/2024   \n",
      "2024-01-12                  12/01/2024   \n",
      "2024-01-15                  15/01/2024   \n",
      "2024-01-16                  16/01/2024   \n",
      "...                                ...   \n",
      "2024-11-08                  08/11/2024   \n",
      "2024-11-08                  08/11/2024   \n",
      "2024-11-12                  12/11/2024   \n",
      "2024-11-18                  18/11/2024   \n",
      "2024-11-22                  22/11/2024   \n",
      "\n",
      "                                                Address County  Eircode  \\\n",
      "Date of Sale                                                              \n",
      "2024-01-03              15 THE WILLOWS, CASTLEBAR, MAYO   Mayo  F23FH50   \n",
      "2024-01-04            45 MANOR VILLAGE, CASTLEBAR, MAYO   Mayo  F23C856   \n",
      "2024-01-12              CLOONDUANE, BELCARRA, CASTLEBAR   Mayo      NaN   \n",
      "2024-01-15             59 RIVERDALE CT, CASTLEBAR, MAYO   Mayo  F23TY01   \n",
      "2024-01-16             DERRARTAN, ISLANDEADY, CASTLEBAR   Mayo  F23HE98   \n",
      "...                                                 ...    ...      ...   \n",
      "2024-11-08              4 CLYDAGH PARK, CASTLEBAR, MAYO   Mayo  F23AY92   \n",
      "2024-11-08              DAVITTS TCE, CASTLEBAR, CO MAYO   Mayo  F23AY68   \n",
      "2024-11-12           89 CHESTNUT GROVE, CASTLEBAR, MAYO   Mayo      NaN   \n",
      "2024-11-18    137 MANOR VILLAGE, WESTPORT RD, CASTLEBAR   Mayo  F23X579   \n",
      "2024-11-22        14 OAK VIEW, TURLOUGH ROAD, CASTLEBAR   Mayo  F23EW61   \n",
      "\n",
      "              Price in Euro Not Full Market Price VAT Exclusive  \\\n",
      "Date of Sale                                                      \n",
      "2024-01-03         210000.0                    No            No   \n",
      "2024-01-04         215000.0                    No            No   \n",
      "2024-01-12         340000.0                    No            No   \n",
      "2024-01-15         137500.0                    No            No   \n",
      "2024-01-16          45000.0                    No            No   \n",
      "...                     ...                   ...           ...   \n",
      "2024-11-08         255000.0                    No            No   \n",
      "2024-11-08         270000.0                    No            No   \n",
      "2024-11-12         180000.0                    No            No   \n",
      "2024-11-18         215000.0                    No            No   \n",
      "2024-11-22         264000.0                    No            No   \n",
      "\n",
      "                            Description of Property Property Size Description  \n",
      "Date of Sale                                                                   \n",
      "2024-01-03    Second-Hand Dwelling house /Apartment                       NaN  \n",
      "2024-01-04    Second-Hand Dwelling house /Apartment                       NaN  \n",
      "2024-01-12    Second-Hand Dwelling house /Apartment                       NaN  \n",
      "2024-01-15    Second-Hand Dwelling house /Apartment                       NaN  \n",
      "2024-01-16    Second-Hand Dwelling house /Apartment                       NaN  \n",
      "...                                             ...                       ...  \n",
      "2024-11-08    Second-Hand Dwelling house /Apartment                       NaN  \n",
      "2024-11-08    Second-Hand Dwelling house /Apartment                       NaN  \n",
      "2024-11-12    Second-Hand Dwelling house /Apartment                       NaN  \n",
      "2024-11-18    Second-Hand Dwelling house /Apartment                       NaN  \n",
      "2024-11-22    Second-Hand Dwelling house /Apartment                       NaN  \n",
      "\n",
      "[247 rows x 9 columns]\n"
     ]
    }
   ],
   "source": [
    "df_castlebar_addresses = df_mayo_2024 [df_mayo_2024 [\"Address\"].str.contains(r\"Castlebar\", case=False, na=False)] \n",
    "print(df_castlebar_addresses)\n"
   ]
  },
  {
   "cell_type": "markdown",
   "metadata": {},
   "source": [
    "#### 5.3.2"
   ]
  },
  {
   "cell_type": "code",
   "execution_count": null,
   "metadata": {},
   "outputs": [],
   "source": []
  },
  {
   "cell_type": "markdown",
   "metadata": {},
   "source": [
    "#### 5.3.1 "
   ]
  },
  {
   "cell_type": "code",
   "execution_count": null,
   "metadata": {},
   "outputs": [],
   "source": []
  },
  {
   "cell_type": "code",
   "execution_count": null,
   "metadata": {},
   "outputs": [],
   "source": []
  },
  {
   "cell_type": "markdown",
   "metadata": {},
   "source": [
    "***\n",
    "## End\n",
    "\n"
   ]
  }
 ],
 "metadata": {
  "kernelspec": {
   "display_name": "base",
   "language": "python",
   "name": "python3"
  },
  "language_info": {
   "codemirror_mode": {
    "name": "ipython",
    "version": 3
   },
   "file_extension": ".py",
   "mimetype": "text/x-python",
   "name": "python",
   "nbconvert_exporter": "python",
   "pygments_lexer": "ipython3",
   "version": "3.12.4"
  }
 },
 "nbformat": 4,
 "nbformat_minor": 2
}
